{
 "cells": [
  {
   "cell_type": "markdown",
   "metadata": {},
   "source": [
    "# Chapter 3. MCMC 블랙박스 열기\n",
    "---\n",
    "<img src='https://alexioannides.github.io/images/data_science/mcmc_vi_pymc3/output_19_1.png' width =700>"
   ]
  },
  {
   "cell_type": "markdown",
   "metadata": {},
   "source": [
    "**MCMC를 다루는 이유**\n",
    "1. 베이지안 추론 책이라면 MCMC를 다뤄야됨.\n",
    "2. MCMC과정을 알면 알고리즘의 수렴 여부를 간파할 수 있다.\n",
    "3. 사후확률표본의 진정한 의미를 알 수 있다."
   ]
  },
  {
   "cell_type": "code",
   "execution_count": 34,
   "metadata": {},
   "outputs": [
    {
     "name": "stdout",
     "output_type": "stream",
     "text": [
      "2.2.0\n",
      "0.10.0\n"
     ]
    }
   ],
   "source": [
    "## Basics\n",
    "from __future__ import absolute_import, division, print_function\n",
    "warning_status = \"ignore\" #@param [\"ignore\", \"always\", \"module\", \"once\", \"default\", \"error\"]\n",
    "import warnings\n",
    "warnings.filterwarnings(warning_status)\n",
    "with warnings.catch_warnings():\n",
    "    warnings.filterwarnings(warning_status, category=DeprecationWarning)\n",
    "    warnings.filterwarnings(warning_status, category=UserWarning)\n",
    "    \n",
    "## python packages\n",
    "import os\n",
    "import numpy as np\n",
    "import pandas as pd\n",
    "\n",
    "## visualization packages\n",
    "import plotly.express as px\n",
    "import plotly.graph_objs as go\n",
    "import plotly.figure_factory as ff\n",
    "from plotly.offline import iplot\n",
    "\n",
    "## import tensorflow\n",
    "import tensorflow as tf\n",
    "import tensorflow_probability as tfp\n",
    "tfd = tfp.distributions\n",
    "tfb = tfp.bijectors\n",
    "\n",
    "## Color map\n",
    "class _TFColor(object):\n",
    "    \"\"\"Enum of colors used in TF docs.\"\"\"\n",
    "    red = '#F15854'\n",
    "    blue = '#5DA5DA'\n",
    "    orange = '#FAA43A'\n",
    "    green = '#60BD68'\n",
    "    pink = '#F17CB0'\n",
    "    brown = '#B2912F'\n",
    "    purple = '#B276B2'\n",
    "    yellow = '#DECF3F'\n",
    "    gray = '#4D4D4D'\n",
    "    def __getitem__(self, i):\n",
    "        return [\n",
    "            self.red,\n",
    "            self.orange,\n",
    "            self.green,\n",
    "            self.blue,\n",
    "            self.pink,\n",
    "            self.brown,\n",
    "            self.purple,\n",
    "            self.yellow,\n",
    "            self.gray,\n",
    "        ][i % 9]\n",
    "TFColor = _TFColor()\n",
    "\n",
    "print(tf.__version__)\n",
    "print(tfp.__version__)\n",
    "tf.random.set_seed(42) # life is 42"
   ]
  },
  {
   "cell_type": "markdown",
   "metadata": {},
   "source": [
    "---"
   ]
  },
  {
   "cell_type": "markdown",
   "metadata": {},
   "source": [
    "## 3.1 베이지안 지형(Bayesian Landscape)\n",
    "#### 시작하기\n",
    "- $N$개의 rv에 대한 베이지안 추론을 할 때, 이에 대한 prior distribution이 존재할 수 있는 $N$차원의 space를 만든다.\n",
    "- $N$개의 rv에 대한 prior distribution은 $N$차원의 space에 대한 surface로 정의함.\n",
    "- 해석학적으로... $y = f(\\mathbf{X}) \\qquad \\mathbf{X} = [x_1, x_2, \\cdots x_n]$"
   ]
  },
  {
   "cell_type": "markdown",
   "metadata": {},
   "source": [
    "##### 두 랜덤변수 ($x_1$, $x_2$)에 대하여 각각의 사전확률분포가 Uniform(0,5)를 따를때, prior landscape."
   ]
  },
  {
   "cell_type": "markdown",
   "metadata": {},
   "source": [
    "##### 두 랜덤변수 ($x_1$, $x_2$)에 대하여 각각의 사전확률분포가 $Exp(3)$, $Exp(10)$를 따를 때, prior landscape."
   ]
  },
  {
   "cell_type": "markdown",
   "metadata": {},
   "source": [
    "#### 베이지안 추론을 할 때, 사후확률분포에 대한 surface의 변화\n",
    "- 관측된 데이터 $X$를 바탕으로 베이지안 추론을 할 때, 사전확률분포에 대한 surface는 데이터 $X$에 의해 변형됨.\n",
    "    - 즉, 우리가 알고 싶은 모수(parameter)가 존재하는 위치를 반영하는 모양으로 변함.\n",
    "- 데이터가 많으면 사전확률분포의 surface에 많은 변화가 발생함.\n",
    "    - 원래 surface에 비해서 의미적 정보를 많이 손실할 수 있음.\n",
    "- 데이터가 적으면 원래의 모양(사전확률분포의 surface)이 더 나타남.\n",
    "- 앞서 살펴본 2차원 공간에 대한 surface의 변화 양상."
   ]
  },
  {
   "cell_type": "markdown",
   "metadata": {},
   "source": [
    "##### 사전확률분포가 Uniform, Exp일 때, 모수 람다에 대한 푸아송 분포.. 추정.\n",
    "    - 결국 사전이 exp인게 더 좋음."
   ]
  },
  {
   "cell_type": "markdown",
   "metadata": {},
   "source": [
    "### 3.1.1 MCMC를 사용하여 지형 탐색하기.\n",
    "- 사전확률분포와 관측 데이터로 변형된 사후공간을 조사하면서 사후확률분포라는 산을 찾아야한다.\n",
    "    - 사후확률분포라는 산 ~ 사후확률분포의 모수(parameter)\n",
    "- MCMC는 사후확률분포의 모수를 예측하는 것이 아닌, 사후확률분포의 표본을 돌려준다.\n",
    "    - **frequentist**\n",
    "        - 음... 우리 데이터에 대하여 통계적으로 평균은 2.5이고, 표준편차는 0.23이야... 이는 정규성 가정을 하고 기각역을 0.05로 생각할 때, p-value가 0.004이므로 통계적으로 유의하다고 할 수 있겠어~!\n",
    "    - **bayesianist**\n",
    "        - [2, 2.1, 4, 3.4, 2.3, 2.7, 2.9, ....] \n",
    "- MCMC 알고리즘을 한 마디로 설명하면 \"내가 샘플링을 통해서 얻은 이 데이터가 사후확률분포에서 나온 확률은 얼마나 될까?\"를 반복적으로 묻는 것과 유사한 작업을 수행함.\n",
    "    - 그리고 원래 사후확률분포를 다시 만들 수 있는 가능성이 있는(likelihood high) 샘플을 리턴함으로써 MCMCM를 끝냄.\n",
    "    - MCMC로 추출된 일련의 sample을 trace라고함.\n",
    "..."
   ]
  },
  {
   "cell_type": "markdown",
   "metadata": {},
   "source": [
    "#### 수천개의 표본이 필요한 이유."
   ]
  },
  {
   "cell_type": "markdown",
   "metadata": {},
   "source": [
    "### 3.1.2 MCMC 알고리즘\n",
    "MCMC 계열 알고리즘은 다양하게 있다. 이들 알고리즘에 대해서 러프하게 정리하면 다음과 같음.\n",
    "\n",
    "    1. 현재 위치에서 시작함.\n",
    "    2. 새로 이동할 위치를 조사함. (주변 데이터를 샘플링함.)\n",
    "    3. 데이터와 사전확률분포를 바탕으로 해당 샘플링이 사후확률분포에서 나올 확률을 계산함. 이를 바탕으로 새로운 위치를 수용하거나 기각함.\n",
    "    4. (a) accept, 새로운 위치로 이동하고 1단계로 이동.\n",
    "       (b) reject, 이동하지 않고 1단계로 이동함.\n",
    "    5. iteration 후, 모든 가능성 위치를 돌려줌.\n",
    "    \n",
    "- 위와 같은 방법으로 우리는 사후확률분포가 존재할만한 range로 이동하고, 그후, 사후확률분포에 속할 가능성이 높은 샘플을 쉽게 뽑을 수 있다.\n",
    "- 현재 위치가 극도로 낮은 확률 영역이라면 샘플이 사후확률분포에서 나온 것이 아닌 위치로, 근처를 제외한 좀 더 나은 위치로 이동함.\n",
    "    - 이러한 현상은 MCMC 초기 iteration에 주로 발생함.\n",
    "    - 이에 대한 대응책이 있음.\n",
    "- 위 알고리즘에서 중요한 것은 오로지 현재 위치다.\n",
    "    - 즉, 알고리즘이 어떻게 도착했는지에는 관심이 없고, 오직 거기에 있다는 점만 중요하다.\n",
    "    - Markov chain을 가정함.\n",
    "        - $p(q_i|q_1, \\cdots, q_{i-1}) = p(q_i|q_{i-1})$\n",
    "\n",
    "\n",
    "\n",
    "\n",
    "<img src=\"https://encrypted-tbn0.gstatic.com/images?q=tbn%3AANd9GcSLxleLjEpf5Ecx0EQLxhg7zLlIPxVuzwdg4w&usqp=CAU\">\n",
    "\n",
    "\n",
    "> 만약 다양한 MCMC 알고리즘에 디테일에 대해서 공부해보고 싶으면, metropolis, metropolis-hastings, gibbs samplings 정도를 찾아보는걸 추천함."
   ]
  },
  {
   "cell_type": "markdown",
   "metadata": {},
   "source": [
    "### 3.1.3 사후확률분포에 대한 다른 접근법\n",
    "- 라플라스 근사법(Laplace Approximation)\n",
    "- 변분 베이즈(Variational Bayes)"
   ]
  },
  {
   "cell_type": "markdown",
   "metadata": {},
   "source": [
    "### 3.1.4 예제: 혼합모델을 사용한 비지도 클러스터링 (GMM을 이용한 군집분석)\n"
   ]
  },
  {
   "cell_type": "markdown",
   "metadata": {},
   "source": [
    "#### `data/mixture_data.csv`가 다음과 같이 주어짐."
   ]
  },
  {
   "cell_type": "code",
   "execution_count": 27,
   "metadata": {},
   "outputs": [
    {
     "data": {
      "text/plain": [
       "300"
      ]
     },
     "execution_count": 27,
     "metadata": {},
     "output_type": "execute_result"
    }
   ],
   "source": [
    "# load dataset\n",
    "df = pd.read_csv('data/mixture_data.csv', header=None, names=['values'])\n",
    "len(df)"
   ]
  },
  {
   "cell_type": "code",
   "execution_count": 26,
   "metadata": {},
   "outputs": [
    {
     "data": {
      "application/vnd.plotly.v1+json": {
       "config": {
        "plotlyServerURL": "https://plot.ly"
       },
       "data": [
        {
         "alignmentgroup": "True",
         "bingroup": "x",
         "hoverlabel": {
          "namelength": 0
         },
         "hovertemplate": "values=%{x}<br>count=%{y}",
         "legendgroup": "",
         "marker": {
          "color": "#636efa"
         },
         "name": "",
         "offsetgroup": "",
         "orientation": "v",
         "showlegend": false,
         "type": "histogram",
         "x": [
          115.85679141666452,
          152.26153715772887,
          178.87449058913532,
          162.93500814707923,
          107.02820697044787,
          105.19141146385785,
          118.38288501254105,
          125.37698030236697,
          102.88054011042593,
          206.71326135815224,
          139.36891127364146,
          155.41048087789582,
          148.75930717558447,
          83.7595765342224,
          139.90775261190933,
          120.62238937111368,
          135.56532941820547,
          104.88725553356456,
          110.00788895485825,
          118.85137336036526,
          113.20733623734708,
          101.46423711158387,
          53.56401814042712,
          83.4327349392501,
          158.30503490683674,
          106.41998006684467,
          155.82440336760027,
          113.19883928733965,
          126.77070529690627,
          137.37883024322974,
          120.69539319251359,
          111.57463629290191,
          115.44676987455918,
          99.23198975585713,
          131.64722574700747,
          99.96377019794387,
          111.42138740640328,
          124.69059125276733,
          139.1450928299442,
          136.15142861002303,
          130.71149604282988,
          80.81320412094766,
          107.82135811757196,
          126.25964515074115,
          171.27426624631474,
          157.0100443945581,
          85.7054471905558,
          113.57179291494464,
          137.07654329943992,
          79.90858139039665,
          47.406886066849566,
          67.01135245547557,
          131.62129015167287,
          132.7180223388547,
          168.50936298017245,
          133.76989928703406,
          175.54858316801523,
          165.52423637764545,
          126.8471820873597,
          167.60157117035365,
          145.58985117512955,
          195.61601841927074,
          118.22246256286144,
          89.25085983612625,
          128.62692371905675,
          99.46176931548413,
          157.10611883647059,
          100.25011341758152,
          117.87364258082964,
          94.22954036020569,
          96.32336367696695,
          130.97711088089696,
          118.13916672583377,
          87.18473890259348,
          146.73637295335803,
          125.79949605900994,
          103.47232693228803,
          111.74773196187225,
          134.6570263925456,
          110.41122689726906,
          124.02796494152648,
          90.58614097837571,
          174.3529241470697,
          145.47354446825852,
          120.07743568521964,
          76.8482581173577,
          132.76156275307787,
          92.3609706879922,
          95.52784968289885,
          133.2776882106833,
          147.35348465602405,
          102.01062911897907,
          96.50714482034651,
          71.39916441047689,
          140.19923169049287,
          95.16569029497388,
          141.9834249663591,
          106.60322957350718,
          150.2077702798387,
          170.8914207381996,
          129.9656738905515,
          113.55077063128608,
          185.35540682929644,
          90.21956920397798,
          69.6813618622167,
          90.37055157785743,
          133.29291221571538,
          143.889597189457,
          199.96861265280194,
          73.47125660893671,
          172.43870176752256,
          173.9221981887875,
          160.46825973237185,
          55.6816979818218,
          158.52002866778543,
          104.00520919828598,
          106.32863343897995,
          162.60480952771522,
          79.11796631966826,
          130.74270485776626,
          205.74992309506112,
          196.82723599175569,
          188.144282083743,
          209.954929401537,
          199.86619465320283,
          211.8440756588201,
          160.6377918214757,
          234.54952273132727,
          197.98702028892998,
          176.75656530270373,
          239.20325624276305,
          220.363486660528,
          218.6204436985497,
          195.82926040606617,
          176.35362312100403,
          172.0099990072054,
          227.61111458235365,
          203.1618190973077,
          220.33946203753243,
          174.89517484676222,
          224.64671154458384,
          206.32623811101936,
          224.35756625350183,
          178.4441729981659,
          206.228600379704,
          177.5707944495689,
          215.5143763250598,
          177.34795413492787,
          181.23934849345633,
          201.6410664104029,
          145.71789630534298,
          181.11587271680517,
          169.88150482056284,
          198.05266574616527,
          223.79265076039496,
          204.16012828591482,
          219.0976423331984,
          154.98039516120122,
          228.73201849480242,
          179.50896381688486,
          214.77492767814726,
          192.92926052809318,
          197.80326952081043,
          195.2622325493282,
          194.74110746287965,
          191.22932687377906,
          200.36835401263943,
          223.73435432283023,
          216.79619004467332,
          203.71514968646898,
          189.3550986737426,
          186.954341164542,
          183.58084417511847,
          197.07095828027556,
          183.94831991324506,
          189.7348523707564,
          207.05614607620547,
          189.5452441676222,
          198.8034028044728,
          222.21049956569672,
          198.28841824903682,
          230.1793802104768,
          208.37519592159083,
          207.20728070116732,
          211.75545269287014,
          223.99129161800062,
          157.7304662746984,
          202.90464478981082,
          212.37484002327167,
          225.6038299100259,
          160.45874830002907,
          212.61424935495424,
          186.5778321564265,
          187.8548632982884,
          193.68292991622937,
          200.82578695941402,
          211.40540965882704,
          222.49423605187135,
          216.32031707425318,
          219.60776090785245,
          196.59734229234525,
          226.0630069755815,
          217.57267370148006,
          189.4721271217474,
          188.04194124216562,
          205.53494504518778,
          200.12115415985053,
          170.1979823394767,
          181.44178685139718,
          217.08181577695998,
          204.3390449169587,
          214.2939835438932,
          208.81573371613896,
          236.41662356422702,
          175.85519255871884,
          218.98189500710797,
          160.82469526877574,
          217.33975713552945,
          204.8043194911895,
          179.54631323462849,
          184.84746698739582,
          277.603584794785,
          197.9652195279245,
          175.17100826896444,
          179.1648298902669,
          241.34632789285166,
          210.9572103136985,
          237.75939250707108,
          164.61854029739376,
          201.73020468429306,
          227.01422404784142,
          205.35004223999937,
          178.19802891454916,
          181.3298787113024,
          186.12733762700836,
          194.83078570934404,
          213.87092489801842,
          227.30938345992743,
          193.7184180374937,
          197.32342439887117,
          177.3274744436027,
          233.14994627971558,
          181.36477263722662,
          216.49529734126,
          206.82733520481352,
          190.7417796433622,
          160.1869449674381,
          235.95287346196594,
          214.2796628839945,
          222.0949791177241,
          198.69703448003196,
          198.4994134360097,
          201.65729836253522,
          204.50027060983962,
          215.21746529519922,
          198.79221441747475,
          224.16481595272958,
          220.54835460651245,
          155.81594843783802,
          167.64956178504076,
          185.0186838826528,
          246.41457861676963,
          248.64093970843382,
          176.75154877958673,
          186.91178046266373,
          187.08106355582413,
          195.83524096817166,
          161.45416796984702,
          182.02101265099807,
          219.94735797661363,
          213.34447988339264,
          209.05510174666466,
          204.61566732063878,
          199.29169108243198,
          194.63616534584997,
          242.13746353486172,
          211.0007927344492,
          166.27657154425427,
          194.9143298584493,
          187.57717596526297,
          221.9149956242237,
          187.67477178659942,
          197.18503328622128,
          148.2140589550791,
          206.48036089728697,
          213.46412909093286,
          191.951814737872,
          180.0465916326362,
          220.37913800764915,
          222.35612485002406,
          227.80820469535738,
          218.1685881622521,
          186.37622498208893,
          177.51929197310255,
          176.47034386367858,
          231.57491587938836,
          217.16883407296487,
          242.31966854274847,
          196.3990296752487,
          222.81906732471577
         ],
         "xaxis": "x",
         "yaxis": "y"
        }
       ],
       "layout": {
        "barmode": "relative",
        "height": 400,
        "legend": {
         "tracegroupgap": 0
        },
        "margin": {
         "t": 60
        },
        "template": {
         "data": {
          "bar": [
           {
            "error_x": {
             "color": "#2a3f5f"
            },
            "error_y": {
             "color": "#2a3f5f"
            },
            "marker": {
             "line": {
              "color": "#E5ECF6",
              "width": 0.5
             }
            },
            "type": "bar"
           }
          ],
          "barpolar": [
           {
            "marker": {
             "line": {
              "color": "#E5ECF6",
              "width": 0.5
             }
            },
            "type": "barpolar"
           }
          ],
          "carpet": [
           {
            "aaxis": {
             "endlinecolor": "#2a3f5f",
             "gridcolor": "white",
             "linecolor": "white",
             "minorgridcolor": "white",
             "startlinecolor": "#2a3f5f"
            },
            "baxis": {
             "endlinecolor": "#2a3f5f",
             "gridcolor": "white",
             "linecolor": "white",
             "minorgridcolor": "white",
             "startlinecolor": "#2a3f5f"
            },
            "type": "carpet"
           }
          ],
          "choropleth": [
           {
            "colorbar": {
             "outlinewidth": 0,
             "ticks": ""
            },
            "type": "choropleth"
           }
          ],
          "contour": [
           {
            "colorbar": {
             "outlinewidth": 0,
             "ticks": ""
            },
            "colorscale": [
             [
              0,
              "#0d0887"
             ],
             [
              0.1111111111111111,
              "#46039f"
             ],
             [
              0.2222222222222222,
              "#7201a8"
             ],
             [
              0.3333333333333333,
              "#9c179e"
             ],
             [
              0.4444444444444444,
              "#bd3786"
             ],
             [
              0.5555555555555556,
              "#d8576b"
             ],
             [
              0.6666666666666666,
              "#ed7953"
             ],
             [
              0.7777777777777778,
              "#fb9f3a"
             ],
             [
              0.8888888888888888,
              "#fdca26"
             ],
             [
              1,
              "#f0f921"
             ]
            ],
            "type": "contour"
           }
          ],
          "contourcarpet": [
           {
            "colorbar": {
             "outlinewidth": 0,
             "ticks": ""
            },
            "type": "contourcarpet"
           }
          ],
          "heatmap": [
           {
            "colorbar": {
             "outlinewidth": 0,
             "ticks": ""
            },
            "colorscale": [
             [
              0,
              "#0d0887"
             ],
             [
              0.1111111111111111,
              "#46039f"
             ],
             [
              0.2222222222222222,
              "#7201a8"
             ],
             [
              0.3333333333333333,
              "#9c179e"
             ],
             [
              0.4444444444444444,
              "#bd3786"
             ],
             [
              0.5555555555555556,
              "#d8576b"
             ],
             [
              0.6666666666666666,
              "#ed7953"
             ],
             [
              0.7777777777777778,
              "#fb9f3a"
             ],
             [
              0.8888888888888888,
              "#fdca26"
             ],
             [
              1,
              "#f0f921"
             ]
            ],
            "type": "heatmap"
           }
          ],
          "heatmapgl": [
           {
            "colorbar": {
             "outlinewidth": 0,
             "ticks": ""
            },
            "colorscale": [
             [
              0,
              "#0d0887"
             ],
             [
              0.1111111111111111,
              "#46039f"
             ],
             [
              0.2222222222222222,
              "#7201a8"
             ],
             [
              0.3333333333333333,
              "#9c179e"
             ],
             [
              0.4444444444444444,
              "#bd3786"
             ],
             [
              0.5555555555555556,
              "#d8576b"
             ],
             [
              0.6666666666666666,
              "#ed7953"
             ],
             [
              0.7777777777777778,
              "#fb9f3a"
             ],
             [
              0.8888888888888888,
              "#fdca26"
             ],
             [
              1,
              "#f0f921"
             ]
            ],
            "type": "heatmapgl"
           }
          ],
          "histogram": [
           {
            "marker": {
             "colorbar": {
              "outlinewidth": 0,
              "ticks": ""
             }
            },
            "type": "histogram"
           }
          ],
          "histogram2d": [
           {
            "colorbar": {
             "outlinewidth": 0,
             "ticks": ""
            },
            "colorscale": [
             [
              0,
              "#0d0887"
             ],
             [
              0.1111111111111111,
              "#46039f"
             ],
             [
              0.2222222222222222,
              "#7201a8"
             ],
             [
              0.3333333333333333,
              "#9c179e"
             ],
             [
              0.4444444444444444,
              "#bd3786"
             ],
             [
              0.5555555555555556,
              "#d8576b"
             ],
             [
              0.6666666666666666,
              "#ed7953"
             ],
             [
              0.7777777777777778,
              "#fb9f3a"
             ],
             [
              0.8888888888888888,
              "#fdca26"
             ],
             [
              1,
              "#f0f921"
             ]
            ],
            "type": "histogram2d"
           }
          ],
          "histogram2dcontour": [
           {
            "colorbar": {
             "outlinewidth": 0,
             "ticks": ""
            },
            "colorscale": [
             [
              0,
              "#0d0887"
             ],
             [
              0.1111111111111111,
              "#46039f"
             ],
             [
              0.2222222222222222,
              "#7201a8"
             ],
             [
              0.3333333333333333,
              "#9c179e"
             ],
             [
              0.4444444444444444,
              "#bd3786"
             ],
             [
              0.5555555555555556,
              "#d8576b"
             ],
             [
              0.6666666666666666,
              "#ed7953"
             ],
             [
              0.7777777777777778,
              "#fb9f3a"
             ],
             [
              0.8888888888888888,
              "#fdca26"
             ],
             [
              1,
              "#f0f921"
             ]
            ],
            "type": "histogram2dcontour"
           }
          ],
          "mesh3d": [
           {
            "colorbar": {
             "outlinewidth": 0,
             "ticks": ""
            },
            "type": "mesh3d"
           }
          ],
          "parcoords": [
           {
            "line": {
             "colorbar": {
              "outlinewidth": 0,
              "ticks": ""
             }
            },
            "type": "parcoords"
           }
          ],
          "pie": [
           {
            "automargin": true,
            "type": "pie"
           }
          ],
          "scatter": [
           {
            "marker": {
             "colorbar": {
              "outlinewidth": 0,
              "ticks": ""
             }
            },
            "type": "scatter"
           }
          ],
          "scatter3d": [
           {
            "line": {
             "colorbar": {
              "outlinewidth": 0,
              "ticks": ""
             }
            },
            "marker": {
             "colorbar": {
              "outlinewidth": 0,
              "ticks": ""
             }
            },
            "type": "scatter3d"
           }
          ],
          "scattercarpet": [
           {
            "marker": {
             "colorbar": {
              "outlinewidth": 0,
              "ticks": ""
             }
            },
            "type": "scattercarpet"
           }
          ],
          "scattergeo": [
           {
            "marker": {
             "colorbar": {
              "outlinewidth": 0,
              "ticks": ""
             }
            },
            "type": "scattergeo"
           }
          ],
          "scattergl": [
           {
            "marker": {
             "colorbar": {
              "outlinewidth": 0,
              "ticks": ""
             }
            },
            "type": "scattergl"
           }
          ],
          "scattermapbox": [
           {
            "marker": {
             "colorbar": {
              "outlinewidth": 0,
              "ticks": ""
             }
            },
            "type": "scattermapbox"
           }
          ],
          "scatterpolar": [
           {
            "marker": {
             "colorbar": {
              "outlinewidth": 0,
              "ticks": ""
             }
            },
            "type": "scatterpolar"
           }
          ],
          "scatterpolargl": [
           {
            "marker": {
             "colorbar": {
              "outlinewidth": 0,
              "ticks": ""
             }
            },
            "type": "scatterpolargl"
           }
          ],
          "scatterternary": [
           {
            "marker": {
             "colorbar": {
              "outlinewidth": 0,
              "ticks": ""
             }
            },
            "type": "scatterternary"
           }
          ],
          "surface": [
           {
            "colorbar": {
             "outlinewidth": 0,
             "ticks": ""
            },
            "colorscale": [
             [
              0,
              "#0d0887"
             ],
             [
              0.1111111111111111,
              "#46039f"
             ],
             [
              0.2222222222222222,
              "#7201a8"
             ],
             [
              0.3333333333333333,
              "#9c179e"
             ],
             [
              0.4444444444444444,
              "#bd3786"
             ],
             [
              0.5555555555555556,
              "#d8576b"
             ],
             [
              0.6666666666666666,
              "#ed7953"
             ],
             [
              0.7777777777777778,
              "#fb9f3a"
             ],
             [
              0.8888888888888888,
              "#fdca26"
             ],
             [
              1,
              "#f0f921"
             ]
            ],
            "type": "surface"
           }
          ],
          "table": [
           {
            "cells": {
             "fill": {
              "color": "#EBF0F8"
             },
             "line": {
              "color": "white"
             }
            },
            "header": {
             "fill": {
              "color": "#C8D4E3"
             },
             "line": {
              "color": "white"
             }
            },
            "type": "table"
           }
          ]
         },
         "layout": {
          "annotationdefaults": {
           "arrowcolor": "#2a3f5f",
           "arrowhead": 0,
           "arrowwidth": 1
          },
          "coloraxis": {
           "colorbar": {
            "outlinewidth": 0,
            "ticks": ""
           }
          },
          "colorscale": {
           "diverging": [
            [
             0,
             "#8e0152"
            ],
            [
             0.1,
             "#c51b7d"
            ],
            [
             0.2,
             "#de77ae"
            ],
            [
             0.3,
             "#f1b6da"
            ],
            [
             0.4,
             "#fde0ef"
            ],
            [
             0.5,
             "#f7f7f7"
            ],
            [
             0.6,
             "#e6f5d0"
            ],
            [
             0.7,
             "#b8e186"
            ],
            [
             0.8,
             "#7fbc41"
            ],
            [
             0.9,
             "#4d9221"
            ],
            [
             1,
             "#276419"
            ]
           ],
           "sequential": [
            [
             0,
             "#0d0887"
            ],
            [
             0.1111111111111111,
             "#46039f"
            ],
            [
             0.2222222222222222,
             "#7201a8"
            ],
            [
             0.3333333333333333,
             "#9c179e"
            ],
            [
             0.4444444444444444,
             "#bd3786"
            ],
            [
             0.5555555555555556,
             "#d8576b"
            ],
            [
             0.6666666666666666,
             "#ed7953"
            ],
            [
             0.7777777777777778,
             "#fb9f3a"
            ],
            [
             0.8888888888888888,
             "#fdca26"
            ],
            [
             1,
             "#f0f921"
            ]
           ],
           "sequentialminus": [
            [
             0,
             "#0d0887"
            ],
            [
             0.1111111111111111,
             "#46039f"
            ],
            [
             0.2222222222222222,
             "#7201a8"
            ],
            [
             0.3333333333333333,
             "#9c179e"
            ],
            [
             0.4444444444444444,
             "#bd3786"
            ],
            [
             0.5555555555555556,
             "#d8576b"
            ],
            [
             0.6666666666666666,
             "#ed7953"
            ],
            [
             0.7777777777777778,
             "#fb9f3a"
            ],
            [
             0.8888888888888888,
             "#fdca26"
            ],
            [
             1,
             "#f0f921"
            ]
           ]
          },
          "colorway": [
           "#636efa",
           "#EF553B",
           "#00cc96",
           "#ab63fa",
           "#FFA15A",
           "#19d3f3",
           "#FF6692",
           "#B6E880",
           "#FF97FF",
           "#FECB52"
          ],
          "font": {
           "color": "#2a3f5f"
          },
          "geo": {
           "bgcolor": "white",
           "lakecolor": "white",
           "landcolor": "#E5ECF6",
           "showlakes": true,
           "showland": true,
           "subunitcolor": "white"
          },
          "hoverlabel": {
           "align": "left"
          },
          "hovermode": "closest",
          "mapbox": {
           "style": "light"
          },
          "paper_bgcolor": "white",
          "plot_bgcolor": "#E5ECF6",
          "polar": {
           "angularaxis": {
            "gridcolor": "white",
            "linecolor": "white",
            "ticks": ""
           },
           "bgcolor": "#E5ECF6",
           "radialaxis": {
            "gridcolor": "white",
            "linecolor": "white",
            "ticks": ""
           }
          },
          "scene": {
           "xaxis": {
            "backgroundcolor": "#E5ECF6",
            "gridcolor": "white",
            "gridwidth": 2,
            "linecolor": "white",
            "showbackground": true,
            "ticks": "",
            "zerolinecolor": "white"
           },
           "yaxis": {
            "backgroundcolor": "#E5ECF6",
            "gridcolor": "white",
            "gridwidth": 2,
            "linecolor": "white",
            "showbackground": true,
            "ticks": "",
            "zerolinecolor": "white"
           },
           "zaxis": {
            "backgroundcolor": "#E5ECF6",
            "gridcolor": "white",
            "gridwidth": 2,
            "linecolor": "white",
            "showbackground": true,
            "ticks": "",
            "zerolinecolor": "white"
           }
          },
          "shapedefaults": {
           "line": {
            "color": "#2a3f5f"
           }
          },
          "ternary": {
           "aaxis": {
            "gridcolor": "white",
            "linecolor": "white",
            "ticks": ""
           },
           "baxis": {
            "gridcolor": "white",
            "linecolor": "white",
            "ticks": ""
           },
           "bgcolor": "#E5ECF6",
           "caxis": {
            "gridcolor": "white",
            "linecolor": "white",
            "ticks": ""
           }
          },
          "title": {
           "x": 0.05
          },
          "xaxis": {
           "automargin": true,
           "gridcolor": "white",
           "linecolor": "white",
           "ticks": "",
           "title": {
            "standoff": 15
           },
           "zerolinecolor": "white",
           "zerolinewidth": 2
          },
          "yaxis": {
           "automargin": true,
           "gridcolor": "white",
           "linecolor": "white",
           "ticks": "",
           "title": {
            "standoff": 15
           },
           "zerolinecolor": "white",
           "zerolinewidth": 2
          }
         }
        },
        "title": {
         "text": "데이터셋의 히스토그램"
        },
        "width": 1250,
        "xaxis": {
         "anchor": "y",
         "autorange": true,
         "domain": [
          0,
          1
         ],
         "range": [
          40,
          280
         ],
         "title": {
          "text": "values"
         },
         "type": "linear"
        },
        "yaxis": {
         "anchor": "x",
         "autorange": true,
         "domain": [
          0,
          1
         ],
         "range": [
          0,
          33.68421052631579
         ],
         "title": {
          "text": "count"
         }
        }
       }
      },
      "image/png": "[encoded data removed]",
      "text/html": [
       "<div>\n",
       "        \n",
       "        \n",
       "            <div id=\"2884e5e1-d0f6-4980-8a11-e757f3d2e306\" class=\"plotly-graph-div\" style=\"height:400px; width:1250px;\"></div>\n",
       "            <script type=\"text/javascript\">\n",
       "                require([\"plotly\"], function(Plotly) {\n",
       "                    window.PLOTLYENV=window.PLOTLYENV || {};\n",
       "                    \n",
       "                if (document.getElementById(\"2884e5e1-d0f6-4980-8a11-e757f3d2e306\")) {\n",
       "                    Plotly.newPlot(\n",
       "                        '2884e5e1-d0f6-4980-8a11-e757f3d2e306',\n",
       "                        [{\"alignmentgroup\": \"True\", \"bingroup\": \"x\", \"hoverlabel\": {\"namelength\": 0}, \"hovertemplate\": \"values=%{x}<br>count=%{y}\", \"legendgroup\": \"\", \"marker\": {\"color\": \"#636efa\"}, \"name\": \"\", \"offsetgroup\": \"\", \"orientation\": \"v\", \"showlegend\": false, \"type\": \"histogram\", \"x\": [115.85679141666452, 152.26153715772887, 178.87449058913532, 162.93500814707923, 107.02820697044787, 105.19141146385785, 118.38288501254105, 125.37698030236697, 102.88054011042593, 206.71326135815224, 139.36891127364146, 155.41048087789582, 148.75930717558447, 83.7595765342224, 139.90775261190933, 120.62238937111368, 135.56532941820547, 104.88725553356456, 110.00788895485825, 118.85137336036526, 113.20733623734708, 101.46423711158387, 53.56401814042712, 83.4327349392501, 158.30503490683674, 106.41998006684467, 155.82440336760027, 113.19883928733965, 126.77070529690627, 137.37883024322974, 120.69539319251359, 111.57463629290191, 115.44676987455918, 99.23198975585713, 131.64722574700747, 99.96377019794387, 111.42138740640328, 124.69059125276733, 139.1450928299442, 136.15142861002303, 130.71149604282988, 80.81320412094766, 107.82135811757196, 126.25964515074115, 171.27426624631474, 157.0100443945581, 85.7054471905558, 113.57179291494464, 137.07654329943992, 79.90858139039665, 47.406886066849566, 67.01135245547557, 131.62129015167287, 132.7180223388547, 168.50936298017245, 133.76989928703406, 175.54858316801523, 165.52423637764545, 126.8471820873597, 167.60157117035365, 145.58985117512955, 195.61601841927074, 118.22246256286144, 89.25085983612625, 128.62692371905675, 99.46176931548413, 157.10611883647059, 100.25011341758152, 117.87364258082964, 94.22954036020569, 96.32336367696695, 130.97711088089696, 118.13916672583377, 87.18473890259348, 146.73637295335803, 125.79949605900994, 103.47232693228803, 111.74773196187225, 134.6570263925456, 110.41122689726906, 124.02796494152648, 90.58614097837571, 174.3529241470697, 145.47354446825852, 120.07743568521964, 76.8482581173577, 132.76156275307787, 92.3609706879922, 95.52784968289885, 133.2776882106833, 147.35348465602405, 102.01062911897907, 96.50714482034651, 71.39916441047689, 140.19923169049287, 95.16569029497388, 141.9834249663591, 106.60322957350718, 150.2077702798387, 170.8914207381996, 129.9656738905515, 113.55077063128608, 185.35540682929644, 90.21956920397798, 69.6813618622167, 90.37055157785743, 133.29291221571538, 143.889597189457, 199.96861265280194, 73.47125660893671, 172.43870176752256, 173.9221981887875, 160.46825973237185, 55.6816979818218, 158.52002866778543, 104.00520919828598, 106.32863343897995, 162.60480952771522, 79.11796631966826, 130.74270485776626, 205.74992309506112, 196.82723599175569, 188.144282083743, 209.954929401537, 199.86619465320283, 211.8440756588201, 160.6377918214757, 234.54952273132727, 197.98702028892998, 176.75656530270373, 239.20325624276305, 220.363486660528, 218.6204436985497, 195.82926040606617, 176.35362312100403, 172.0099990072054, 227.61111458235365, 203.1618190973077, 220.33946203753243, 174.89517484676222, 224.64671154458384, 206.32623811101936, 224.35756625350183, 178.4441729981659, 206.228600379704, 177.5707944495689, 215.5143763250598, 177.34795413492787, 181.23934849345633, 201.6410664104029, 145.71789630534298, 181.11587271680517, 169.88150482056284, 198.05266574616527, 223.79265076039496, 204.16012828591482, 219.0976423331984, 154.98039516120122, 228.73201849480242, 179.50896381688486, 214.77492767814726, 192.92926052809318, 197.80326952081043, 195.2622325493282, 194.74110746287965, 191.22932687377906, 200.36835401263943, 223.73435432283023, 216.79619004467332, 203.71514968646898, 189.3550986737426, 186.954341164542, 183.58084417511847, 197.07095828027556, 183.94831991324506, 189.7348523707564, 207.05614607620547, 189.5452441676222, 198.8034028044728, 222.21049956569672, 198.28841824903682, 230.1793802104768, 208.37519592159083, 207.20728070116732, 211.75545269287014, 223.99129161800062, 157.7304662746984, 202.90464478981082, 212.37484002327167, 225.6038299100259, 160.45874830002907, 212.61424935495424, 186.5778321564265, 187.8548632982884, 193.68292991622937, 200.82578695941402, 211.40540965882704, 222.49423605187135, 216.32031707425318, 219.60776090785245, 196.59734229234525, 226.0630069755815, 217.57267370148006, 189.4721271217474, 188.04194124216562, 205.53494504518778, 200.12115415985053, 170.1979823394767, 181.44178685139718, 217.08181577695998, 204.3390449169587, 214.2939835438932, 208.81573371613896, 236.41662356422702, 175.85519255871884, 218.98189500710797, 160.82469526877574, 217.33975713552945, 204.8043194911895, 179.54631323462849, 184.84746698739582, 277.603584794785, 197.9652195279245, 175.17100826896444, 179.1648298902669, 241.34632789285166, 210.9572103136985, 237.75939250707108, 164.61854029739376, 201.73020468429306, 227.01422404784142, 205.35004223999937, 178.19802891454916, 181.3298787113024, 186.12733762700836, 194.83078570934404, 213.87092489801842, 227.30938345992743, 193.7184180374937, 197.32342439887117, 177.3274744436027, 233.14994627971558, 181.36477263722662, 216.49529734126, 206.82733520481352, 190.7417796433622, 160.1869449674381, 235.95287346196594, 214.2796628839945, 222.0949791177241, 198.69703448003196, 198.4994134360097, 201.65729836253522, 204.50027060983962, 215.21746529519922, 198.79221441747475, 224.16481595272958, 220.54835460651245, 155.81594843783802, 167.64956178504076, 185.0186838826528, 246.41457861676963, 248.64093970843382, 176.75154877958673, 186.91178046266373, 187.08106355582413, 195.83524096817166, 161.45416796984702, 182.02101265099807, 219.94735797661363, 213.34447988339264, 209.05510174666466, 204.61566732063878, 199.29169108243198, 194.63616534584997, 242.13746353486172, 211.0007927344492, 166.27657154425427, 194.9143298584493, 187.57717596526297, 221.9149956242237, 187.67477178659942, 197.18503328622128, 148.2140589550791, 206.48036089728697, 213.46412909093286, 191.951814737872, 180.0465916326362, 220.37913800764915, 222.35612485002406, 227.80820469535738, 218.1685881622521, 186.37622498208893, 177.51929197310255, 176.47034386367858, 231.57491587938836, 217.16883407296487, 242.31966854274847, 196.3990296752487, 222.81906732471577], \"xaxis\": \"x\", \"yaxis\": \"y\"}],\n",
       "                        {\"barmode\": \"relative\", \"height\": 400, \"legend\": {\"tracegroupgap\": 0}, \"margin\": {\"t\": 60}, \"template\": {\"data\": {\"bar\": [{\"error_x\": {\"color\": \"#2a3f5f\"}, \"error_y\": {\"color\": \"#2a3f5f\"}, \"marker\": {\"line\": {\"color\": \"#E5ECF6\", \"width\": 0.5}}, \"type\": \"bar\"}], \"barpolar\": [{\"marker\": {\"line\": {\"color\": \"#E5ECF6\", \"width\": 0.5}}, \"type\": \"barpolar\"}], \"carpet\": [{\"aaxis\": {\"endlinecolor\": \"#2a3f5f\", \"gridcolor\": \"white\", \"linecolor\": \"white\", \"minorgridcolor\": \"white\", \"startlinecolor\": \"#2a3f5f\"}, \"baxis\": {\"endlinecolor\": \"#2a3f5f\", \"gridcolor\": \"white\", \"linecolor\": \"white\", \"minorgridcolor\": \"white\", \"startlinecolor\": \"#2a3f5f\"}, \"type\": \"carpet\"}], \"choropleth\": [{\"colorbar\": {\"outlinewidth\": 0, \"ticks\": \"\"}, \"type\": \"choropleth\"}], \"contour\": [{\"colorbar\": {\"outlinewidth\": 0, \"ticks\": \"\"}, \"colorscale\": [[0.0, \"#0d0887\"], [0.1111111111111111, \"#46039f\"], [0.2222222222222222, \"#7201a8\"], [0.3333333333333333, \"#9c179e\"], [0.4444444444444444, \"#bd3786\"], [0.5555555555555556, \"#d8576b\"], [0.6666666666666666, \"#ed7953\"], [0.7777777777777778, \"#fb9f3a\"], [0.8888888888888888, \"#fdca26\"], [1.0, \"#f0f921\"]], \"type\": \"contour\"}], \"contourcarpet\": [{\"colorbar\": {\"outlinewidth\": 0, \"ticks\": \"\"}, \"type\": \"contourcarpet\"}], \"heatmap\": [{\"colorbar\": {\"outlinewidth\": 0, \"ticks\": \"\"}, \"colorscale\": [[0.0, \"#0d0887\"], [0.1111111111111111, \"#46039f\"], [0.2222222222222222, \"#7201a8\"], [0.3333333333333333, \"#9c179e\"], [0.4444444444444444, \"#bd3786\"], [0.5555555555555556, \"#d8576b\"], [0.6666666666666666, \"#ed7953\"], [0.7777777777777778, \"#fb9f3a\"], [0.8888888888888888, \"#fdca26\"], [1.0, \"#f0f921\"]], \"type\": \"heatmap\"}], \"heatmapgl\": [{\"colorbar\": {\"outlinewidth\": 0, \"ticks\": \"\"}, \"colorscale\": [[0.0, \"#0d0887\"], [0.1111111111111111, \"#46039f\"], [0.2222222222222222, \"#7201a8\"], [0.3333333333333333, \"#9c179e\"], [0.4444444444444444, \"#bd3786\"], [0.5555555555555556, \"#d8576b\"], [0.6666666666666666, \"#ed7953\"], [0.7777777777777778, \"#fb9f3a\"], [0.8888888888888888, \"#fdca26\"], [1.0, \"#f0f921\"]], \"type\": \"heatmapgl\"}], \"histogram\": [{\"marker\": {\"colorbar\": {\"outlinewidth\": 0, \"ticks\": \"\"}}, \"type\": \"histogram\"}], \"histogram2d\": [{\"colorbar\": {\"outlinewidth\": 0, \"ticks\": \"\"}, \"colorscale\": [[0.0, \"#0d0887\"], [0.1111111111111111, \"#46039f\"], [0.2222222222222222, \"#7201a8\"], [0.3333333333333333, \"#9c179e\"], [0.4444444444444444, \"#bd3786\"], [0.5555555555555556, \"#d8576b\"], [0.6666666666666666, \"#ed7953\"], [0.7777777777777778, \"#fb9f3a\"], [0.8888888888888888, \"#fdca26\"], [1.0, \"#f0f921\"]], \"type\": \"histogram2d\"}], \"histogram2dcontour\": [{\"colorbar\": {\"outlinewidth\": 0, \"ticks\": \"\"}, \"colorscale\": [[0.0, \"#0d0887\"], [0.1111111111111111, \"#46039f\"], [0.2222222222222222, \"#7201a8\"], [0.3333333333333333, \"#9c179e\"], [0.4444444444444444, \"#bd3786\"], [0.5555555555555556, \"#d8576b\"], [0.6666666666666666, \"#ed7953\"], [0.7777777777777778, \"#fb9f3a\"], [0.8888888888888888, \"#fdca26\"], [1.0, \"#f0f921\"]], \"type\": \"histogram2dcontour\"}], \"mesh3d\": [{\"colorbar\": {\"outlinewidth\": 0, \"ticks\": \"\"}, \"type\": \"mesh3d\"}], \"parcoords\": [{\"line\": {\"colorbar\": {\"outlinewidth\": 0, \"ticks\": \"\"}}, \"type\": \"parcoords\"}], \"pie\": [{\"automargin\": true, \"type\": \"pie\"}], \"scatter\": [{\"marker\": {\"colorbar\": {\"outlinewidth\": 0, \"ticks\": \"\"}}, \"type\": \"scatter\"}], \"scatter3d\": [{\"line\": {\"colorbar\": {\"outlinewidth\": 0, \"ticks\": \"\"}}, \"marker\": {\"colorbar\": {\"outlinewidth\": 0, \"ticks\": \"\"}}, \"type\": \"scatter3d\"}], \"scattercarpet\": [{\"marker\": {\"colorbar\": {\"outlinewidth\": 0, \"ticks\": \"\"}}, \"type\": \"scattercarpet\"}], \"scattergeo\": [{\"marker\": {\"colorbar\": {\"outlinewidth\": 0, \"ticks\": \"\"}}, \"type\": \"scattergeo\"}], \"scattergl\": [{\"marker\": {\"colorbar\": {\"outlinewidth\": 0, \"ticks\": \"\"}}, \"type\": \"scattergl\"}], \"scattermapbox\": [{\"marker\": {\"colorbar\": {\"outlinewidth\": 0, \"ticks\": \"\"}}, \"type\": \"scattermapbox\"}], \"scatterpolar\": [{\"marker\": {\"colorbar\": {\"outlinewidth\": 0, \"ticks\": \"\"}}, \"type\": \"scatterpolar\"}], \"scatterpolargl\": [{\"marker\": {\"colorbar\": {\"outlinewidth\": 0, \"ticks\": \"\"}}, \"type\": \"scatterpolargl\"}], \"scatterternary\": [{\"marker\": {\"colorbar\": {\"outlinewidth\": 0, \"ticks\": \"\"}}, \"type\": \"scatterternary\"}], \"surface\": [{\"colorbar\": {\"outlinewidth\": 0, \"ticks\": \"\"}, \"colorscale\": [[0.0, \"#0d0887\"], [0.1111111111111111, \"#46039f\"], [0.2222222222222222, \"#7201a8\"], [0.3333333333333333, \"#9c179e\"], [0.4444444444444444, \"#bd3786\"], [0.5555555555555556, \"#d8576b\"], [0.6666666666666666, \"#ed7953\"], [0.7777777777777778, \"#fb9f3a\"], [0.8888888888888888, \"#fdca26\"], [1.0, \"#f0f921\"]], \"type\": \"surface\"}], \"table\": [{\"cells\": {\"fill\": {\"color\": \"#EBF0F8\"}, \"line\": {\"color\": \"white\"}}, \"header\": {\"fill\": {\"color\": \"#C8D4E3\"}, \"line\": {\"color\": \"white\"}}, \"type\": \"table\"}]}, \"layout\": {\"annotationdefaults\": {\"arrowcolor\": \"#2a3f5f\", \"arrowhead\": 0, \"arrowwidth\": 1}, \"coloraxis\": {\"colorbar\": {\"outlinewidth\": 0, \"ticks\": \"\"}}, \"colorscale\": {\"diverging\": [[0, \"#8e0152\"], [0.1, \"#c51b7d\"], [0.2, \"#de77ae\"], [0.3, \"#f1b6da\"], [0.4, \"#fde0ef\"], [0.5, \"#f7f7f7\"], [0.6, \"#e6f5d0\"], [0.7, \"#b8e186\"], [0.8, \"#7fbc41\"], [0.9, \"#4d9221\"], [1, \"#276419\"]], \"sequential\": [[0.0, \"#0d0887\"], [0.1111111111111111, \"#46039f\"], [0.2222222222222222, \"#7201a8\"], [0.3333333333333333, \"#9c179e\"], [0.4444444444444444, \"#bd3786\"], [0.5555555555555556, \"#d8576b\"], [0.6666666666666666, \"#ed7953\"], [0.7777777777777778, \"#fb9f3a\"], [0.8888888888888888, \"#fdca26\"], [1.0, \"#f0f921\"]], \"sequentialminus\": [[0.0, \"#0d0887\"], [0.1111111111111111, \"#46039f\"], [0.2222222222222222, \"#7201a8\"], [0.3333333333333333, \"#9c179e\"], [0.4444444444444444, \"#bd3786\"], [0.5555555555555556, \"#d8576b\"], [0.6666666666666666, \"#ed7953\"], [0.7777777777777778, \"#fb9f3a\"], [0.8888888888888888, \"#fdca26\"], [1.0, \"#f0f921\"]]}, \"colorway\": [\"#636efa\", \"#EF553B\", \"#00cc96\", \"#ab63fa\", \"#FFA15A\", \"#19d3f3\", \"#FF6692\", \"#B6E880\", \"#FF97FF\", \"#FECB52\"], \"font\": {\"color\": \"#2a3f5f\"}, \"geo\": {\"bgcolor\": \"white\", \"lakecolor\": \"white\", \"landcolor\": \"#E5ECF6\", \"showlakes\": true, \"showland\": true, \"subunitcolor\": \"white\"}, \"hoverlabel\": {\"align\": \"left\"}, \"hovermode\": \"closest\", \"mapbox\": {\"style\": \"light\"}, \"paper_bgcolor\": \"white\", \"plot_bgcolor\": \"#E5ECF6\", \"polar\": {\"angularaxis\": {\"gridcolor\": \"white\", \"linecolor\": \"white\", \"ticks\": \"\"}, \"bgcolor\": \"#E5ECF6\", \"radialaxis\": {\"gridcolor\": \"white\", \"linecolor\": \"white\", \"ticks\": \"\"}}, \"scene\": {\"xaxis\": {\"backgroundcolor\": \"#E5ECF6\", \"gridcolor\": \"white\", \"gridwidth\": 2, \"linecolor\": \"white\", \"showbackground\": true, \"ticks\": \"\", \"zerolinecolor\": \"white\"}, \"yaxis\": {\"backgroundcolor\": \"#E5ECF6\", \"gridcolor\": \"white\", \"gridwidth\": 2, \"linecolor\": \"white\", \"showbackground\": true, \"ticks\": \"\", \"zerolinecolor\": \"white\"}, \"zaxis\": {\"backgroundcolor\": \"#E5ECF6\", \"gridcolor\": \"white\", \"gridwidth\": 2, \"linecolor\": \"white\", \"showbackground\": true, \"ticks\": \"\", \"zerolinecolor\": \"white\"}}, \"shapedefaults\": {\"line\": {\"color\": \"#2a3f5f\"}}, \"ternary\": {\"aaxis\": {\"gridcolor\": \"white\", \"linecolor\": \"white\", \"ticks\": \"\"}, \"baxis\": {\"gridcolor\": \"white\", \"linecolor\": \"white\", \"ticks\": \"\"}, \"bgcolor\": \"#E5ECF6\", \"caxis\": {\"gridcolor\": \"white\", \"linecolor\": \"white\", \"ticks\": \"\"}}, \"title\": {\"x\": 0.05}, \"xaxis\": {\"automargin\": true, \"gridcolor\": \"white\", \"linecolor\": \"white\", \"ticks\": \"\", \"title\": {\"standoff\": 15}, \"zerolinecolor\": \"white\", \"zerolinewidth\": 2}, \"yaxis\": {\"automargin\": true, \"gridcolor\": \"white\", \"linecolor\": \"white\", \"ticks\": \"\", \"title\": {\"standoff\": 15}, \"zerolinecolor\": \"white\", \"zerolinewidth\": 2}}}, \"title\": {\"text\": \"\\ub370\\uc774\\ud130\\uc14b\\uc758 \\ud788\\uc2a4\\ud1a0\\uadf8\\ub7a8\"}, \"width\": 1250, \"xaxis\": {\"anchor\": \"y\", \"domain\": [0.0, 1.0], \"title\": {\"text\": \"values\"}}, \"yaxis\": {\"anchor\": \"x\", \"domain\": [0.0, 1.0], \"title\": {\"text\": \"count\"}}},\n",
       "                        {\"responsive\": true}\n",
       "                    ).then(function(){\n",
       "                            \n",
       "var gd = document.getElementById('2884e5e1-d0f6-4980-8a11-e757f3d2e306');\n",
       "var x = new MutationObserver(function (mutations, observer) {{\n",
       "        var display = window.getComputedStyle(gd).display;\n",
       "        if (!display || display === 'none') {{\n",
       "            console.log([gd, 'removed!']);\n",
       "            Plotly.purge(gd);\n",
       "            observer.disconnect();\n",
       "        }}\n",
       "}});\n",
       "\n",
       "// Listen for the removal of the full notebook cells\n",
       "var notebookContainer = gd.closest('#notebook-container');\n",
       "if (notebookContainer) {{\n",
       "    x.observe(notebookContainer, {childList: true});\n",
       "}}\n",
       "\n",
       "// Listen for the clearing of the current output cell\n",
       "var outputEl = gd.closest('.output');\n",
       "if (outputEl) {{\n",
       "    x.observe(outputEl, {childList: true});\n",
       "}}\n",
       "\n",
       "                        })\n",
       "                };\n",
       "                });\n",
       "            </script>\n",
       "        </div>"
      ]
     },
     "metadata": {},
     "output_type": "display_data"
    }
   ],
   "source": [
    "# plot the data\n",
    "fig = px.histogram(df, x='values')\n",
    "fig.layout.title = '데이터셋의 히스토그램'\n",
    "fig.layout.width = 1250\n",
    "fig.layout.height = 400\n",
    "fig"
   ]
  },
  {
   "cell_type": "markdown",
   "metadata": {},
   "source": [
    "위 데이터를 관찰해보면 아래와 같은 특징을 볼 수 있다.\n",
    "- bimodal distribution\n",
    "- mode 약 120, 200\n",
    "> 즉, 분포의 특징으로 클러스터가 두개 있을 것으로 생각됨. ($k=2$)"
   ]
  },
  {
   "cell_type": "markdown",
   "metadata": {},
   "source": [
    "#### GMM(Gaussian Mixture Model)을 활용한 데이터 클러스터링.\n",
    "    1. 각 데이터 포인트에 대하여 cluster 0을 선택할 확률을 **p** cluster 1를 선택할 확률을 **(1-p)**로 선택함.\n",
    "    2. \n",
    "    3. 반복함.\n"
   ]
  },
  {
   "cell_type": "code",
   "execution_count": 40,
   "metadata": {},
   "outputs": [],
   "source": [
    "data_ = df['values'].values\n",
    "p1 = tfd.Uniform(name='p', low=0., high=1.).sample()\n",
    "p2 = 1 - p1\n",
    "p = tf.stack([p1, p2])\n",
    "\n",
    "rv_assignment = tfd.Categorical(name=\"assignment\",probs=p)\n",
    "assignment = rv_assignment.sample(sample_shape=data_.shape[0])\n",
    "\n",
    "[P_, assignment_] = [p.numpy(), assignment.numpy()]"
   ]
  },
  {
   "cell_type": "code",
   "execution_count": 42,
   "metadata": {},
   "outputs": [
    {
     "name": "stdout",
     "output_type": "stream",
     "text": [
      "tfp.distributions.Uniform(\"rv_sds\", batch_shape=[2], event_shape=[], dtype=float32)\n"
     ]
    }
   ],
   "source": [
    "rv_sds = tfd.Uniform(name=\"rv_sds\", low=[0., 0.], high=[100., 100.])\n",
    "print (str(rv_sds))\n",
    "\n",
    "rv_centers = tfd.Normal(name=\"rv_centers\", loc=[120., 190.], scale=[10., 10.])"
   ]
  },
  {
   "cell_type": "code",
   "execution_count": 43,
   "metadata": {},
   "outputs": [
    {
     "name": "stdout",
     "output_type": "stream",
     "text": [
      "shape of sds sample: (2,)\n"
     ]
    }
   ],
   "source": [
    "sds = rv_sds.sample()\n",
    "print (\"shape of sds sample:\",sds.shape)\n",
    "centers = rv_centers.sample()"
   ]
  },
  {
   "cell_type": "code",
   "execution_count": null,
   "metadata": {},
   "outputs": [],
   "source": []
  },
  {
   "cell_type": "code",
   "execution_count": null,
   "metadata": {},
   "outputs": [],
   "source": [
    "\n",
    "    \n",
    "\n",
    "\n",
    "rv_assignments = tfd.Categorical(probs=tf.stack([0.4, 0.6]))\n",
    "assignments = rv_assignments.sample(sample_shape=10)\n",
    "\n",
    "# and to combine it with the observations:\n",
    "rv_observations = tfd.MixtureSameFamily(\n",
    "    mixture_distribution=rv_assignments,\n",
    "    components_distribution=tfd.Normal(\n",
    "        loc=centers,\n",
    "        scale=sds))\n",
    "\n",
    "observations = rv_observations.sample(sample_shape=10)\n",
    "\n",
    "[    \n",
    "    assignments_,\n",
    "    observations_,\n",
    "    sds_,\n",
    "    centers_\n",
    "] = evaluate([\n",
    "    assignments,\n",
    "    observations,\n",
    "    sds,\n",
    "    centers\n",
    "])\n",
    "\n",
    "print(\"simulated data: \", observations_[:4], \"...\")\n",
    "print(\"Random assignments: \", assignments_[:4], \"...\")\n",
    "print(\"Assigned center: \", centers_[:4], \"...\")\n",
    "print(\"Assigned standard deviation: \", sds_[:4],\"...\")"
   ]
  },
  {
   "cell_type": "markdown",
   "metadata": {},
   "source": [
    "joint log prob"
   ]
  },
  {
   "cell_type": "code",
   "execution_count": null,
   "metadata": {},
   "outputs": [],
   "source": [
    "- 중심값과 std에 대한 pror로 투 클러스터링 만들기.."
   ]
  },
  {
   "cell_type": "code",
   "execution_count": null,
   "metadata": {},
   "outputs": [],
   "source": []
  },
  {
   "cell_type": "code",
   "execution_count": null,
   "metadata": {},
   "outputs": [],
   "source": []
  },
  {
   "cell_type": "code",
   "execution_count": null,
   "metadata": {},
   "outputs": [],
   "source": [
    "여튼 정밀도나 분산이나 뭐든 표준편차와 관련된 랜덤변수 추정 ... unifrom...\n",
    "중심값 normal dist"
   ]
  },
  {
   "cell_type": "markdown",
   "metadata": {},
   "source": [
    "## 3.2 수렴 판정하기"
   ]
  },
  {
   "cell_type": "code",
   "execution_count": null,
   "metadata": {},
   "outputs": [],
   "source": []
  },
  {
   "cell_type": "code",
   "execution_count": null,
   "metadata": {},
   "outputs": [],
   "source": []
  },
  {
   "cell_type": "code",
   "execution_count": null,
   "metadata": {},
   "outputs": [],
   "source": []
  },
  {
   "cell_type": "code",
   "execution_count": null,
   "metadata": {},
   "outputs": [],
   "source": []
  },
  {
   "cell_type": "code",
   "execution_count": null,
   "metadata": {},
   "outputs": [],
   "source": []
  },
  {
   "cell_type": "code",
   "execution_count": null,
   "metadata": {},
   "outputs": [],
   "source": []
  },
  {
   "cell_type": "code",
   "execution_count": null,
   "metadata": {},
   "outputs": [],
   "source": []
  },
  {
   "cell_type": "code",
   "execution_count": null,
   "metadata": {},
   "outputs": [],
   "source": []
  },
  {
   "cell_type": "code",
   "execution_count": null,
   "metadata": {},
   "outputs": [],
   "source": []
  },
  {
   "cell_type": "code",
   "execution_count": null,
   "metadata": {},
   "outputs": [],
   "source": []
  },
  {
   "cell_type": "markdown",
   "metadata": {},
   "source": [
    "## 3.3 MCMC에 대한 유용한 팁"
   ]
  },
  {
   "cell_type": "markdown",
   "metadata": {},
   "source": [
    "## 3.4 결론"
   ]
  },
  {
   "cell_type": "markdown",
   "metadata": {},
   "source": [
    "---"
   ]
  },
  {
   "cell_type": "markdown",
   "metadata": {},
   "source": [
    "### Reference\n",
    "- https://github.com/CamDavidsonPilon/Probabilistic-Programming-and-Bayesian-Methods-for-Hackers/blob/master/Chapter3_MCMC/Ch3_IntroMCMC_TFP.ipynb"
   ]
  }
 ],
 "metadata": {
  "kernelspec": {
   "display_name": "Python 3",
   "language": "python",
   "name": "python3"
  },
  "language_info": {
   "codemirror_mode": {
    "name": "ipython",
    "version": 3
   },
   "file_extension": ".py",
   "mimetype": "text/x-python",
   "name": "python",
   "nbconvert_exporter": "python",
   "pygments_lexer": "ipython3",
   "version": "3.6.9"
  }
 },
 "nbformat": 4,
 "nbformat_minor": 4
}
