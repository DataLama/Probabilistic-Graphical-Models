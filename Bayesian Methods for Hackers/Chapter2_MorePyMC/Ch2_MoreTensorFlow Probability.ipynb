{
 "cells": [
  {
   "cell_type": "markdown",
   "metadata": {},
   "source": [
    "본 내용은 [tensorflow probability](https://github.com/CamDavidsonPilon/Probabilistic-Programming-and-Bayesian-Methods-for-Hackers/blob/master/Chapter2_MorePyMC/Ch2_MorePyMC_TFP.ipynb)를 기반으로 정리함."
   ]
  },
  {
   "cell_type": "markdown",
   "metadata": {},
   "source": [
    "### tensorflow-probability\n",
    "- tf 2.2 & tfp 0.10 을 기본 버전으로 사용함.\n",
    "- 데이터 시각화는 plotly를 사용하여 구현함."
   ]
  },
  {
   "cell_type": "code",
   "execution_count": 1,
   "metadata": {},
   "outputs": [
    {
     "name": "stdout",
     "output_type": "stream",
     "text": [
      "2.2.0\n",
      "0.10.0\n"
     ]
    }
   ],
   "source": [
    "## Basics\n",
    "from __future__ import absolute_import, division, print_function\n",
    "warning_status = \"ignore\" #@param [\"ignore\", \"always\", \"module\", \"once\", \"default\", \"error\"]\n",
    "import warnings\n",
    "warnings.filterwarnings(warning_status)\n",
    "with warnings.catch_warnings():\n",
    "    warnings.filterwarnings(warning_status, category=DeprecationWarning)\n",
    "    warnings.filterwarnings(warning_status, category=UserWarning)\n",
    "    \n",
    "## python packages\n",
    "import os\n",
    "import numpy as np\n",
    "\n",
    "## visualization packages\n",
    "import plotly.express as px\n",
    "import plotly.graph_objs as go\n",
    "import plotly.figure_factory as ff\n",
    "from plotly.offline import iplot\n",
    "\n",
    "## import tensorflow\n",
    "import tensorflow as tf\n",
    "import tensorflow_probability as tfp\n",
    "tfd = tfp.distributions\n",
    "tfb = tfp.bijectors\n",
    "\n",
    "## Color map\n",
    "class _TFColor(object):\n",
    "    \"\"\"Enum of colors used in TF docs.\"\"\"\n",
    "    red = '#F15854'\n",
    "    blue = '#5DA5DA'\n",
    "    orange = '#FAA43A'\n",
    "    green = '#60BD68'\n",
    "    pink = '#F17CB0'\n",
    "    brown = '#B2912F'\n",
    "    purple = '#B276B2'\n",
    "    yellow = '#DECF3F'\n",
    "    gray = '#4D4D4D'\n",
    "    def __getitem__(self, i):\n",
    "        return [\n",
    "            self.red,\n",
    "            self.orange,\n",
    "            self.green,\n",
    "            self.blue,\n",
    "            self.pink,\n",
    "            self.brown,\n",
    "            self.purple,\n",
    "            self.yellow,\n",
    "            self.gray,\n",
    "        ][i % 9]\n",
    "TFColor = _TFColor()\n",
    "\n",
    "print(tf.__version__)\n",
    "print(tfp.__version__)"
   ]
  },
  {
   "cell_type": "markdown",
   "metadata": {},
   "source": [
    "**Usage of XLA(Accelerated Linear Algebra)**\n",
    "\n",
    "- XLA is a domain-specific compiler for linear algebra that optimizes Tensorflow computations.\n",
    "- tensor 연산을 하는 파이썬 함수에 아래와 같은 `tf.function` 데코레이터를 사용하면 됨.\n",
    "```python\n",
    "@tf.function(experimental_compile=True)\n",
    "def train_mnist(images, labels):\n",
    "    images, labels = cast(images, labels)\n",
    "\n",
    "    with tf.GradientTape() as tape:\n",
    "        predicted_labels = layer(images)\n",
    "        loss = tf.reduce_mean(tf.nn.sparse_softmax_cross_entropy_with_logits(\n",
    "          logits=predicted_labels, labels=labels\n",
    "        ))\n",
    "    layer_variables = layer.trainable_variables\n",
    "    grads = tape.gradient(loss, layer_variables)\n",
    "    optimizer.apply_gradients(zip(grads, layer_variables))\n",
    "```\n",
    "- [mnist 예시에 대하여 xla 성능 실험](https://github.com/tensorflow/tensorflow/blob/master/tensorflow/compiler/xla/g3doc/tutorials/compile.ipynb)\n",
    "    - `TRAIN_STEPS=10000` with 2019 macbook AIR\n",
    "    - tf2 $\\longrightarrow$ 97초\n",
    "    - tf2 with xla $\\longrightarrow$ 37초\n"
   ]
  },
  {
   "cell_type": "markdown",
   "metadata": {},
   "source": [
    "---"
   ]
  },
  {
   "cell_type": "markdown",
   "metadata": {},
   "source": [
    "# 2.1 서론\n",
    "tensorflow-probability 재구성함.\n",
    "## 2.1.1 부모와 자식관계\n",
    "베이지안 확률론에서 랜덤변수(Random Variable)들 간의 관계는 부모와 자식 간의 관계로 설명할 수 있다.\n",
    "- **부모변수**는 다른 랜덤변수에 영향을 주는 랜덤변수다.\n",
    "- **자식변수**는 다른 랜덤변수에 영향을 받는 랜덤변수다. 즉, 부모변수에 종속되는(dependent) 랜덤변수다.\n",
    "- 모든 변수는 부모변수와 동시에 자식변수가 될 수 있다."
   ]
  },
  {
   "cell_type": "markdown",
   "metadata": {},
   "source": [
    "### 랜덤변수들 간의 관계"
   ]
  },
  {
   "cell_type": "code",
   "execution_count": 4,
   "metadata": {},
   "outputs": [
    {
     "name": "stdout",
     "output_type": "stream",
     "text": [
      "Value of sample from data generator random variable\n",
      "\n",
      " tf.Tensor(0.0, shape=(), dtype=float32)\n",
      "\n",
      "data_generator plus one\n",
      "\n",
      " tf.Tensor(1.0, shape=(), dtype=float32)\n"
     ]
    }
   ],
   "source": [
    "rv_lambda_ = tfd.Exponential(rate=1., name='poisson_param')\n",
    "lambda_ = rv_lambda_.sample()\n",
    "rv_data_generator = tfd.Poisson(lambda_, name='data_generator')\n",
    "data_generator = rv_data_generator.sample()\n",
    "print(\"Value of sample from data generator random variable\\n\\n\", data_generator)\n",
    "print()\n",
    "data_plus_one = data_generator + 1\n",
    "print(\"data_generator plus one\\n\\n\", data_plus_one)"
   ]
  },
  {
   "cell_type": "markdown",
   "metadata": {},
   "source": [
    "- `rv_lambda_` $\\longrightarrow$ `rv_data_genrator`\n",
    "    - `rv_lambda_`은 `data_genrator`의 파라미터(모수)를 좌우하므로 `rv_data_genrator`의 부모변수다.\n",
    "    - 반대로 `rv_data_genrator`은 `rv_lambda_`의 자식변수다"
   ]
  },
  {
   "cell_type": "markdown",
   "metadata": {},
   "source": [
    "- `rv_data_genrator` $\\longrightarrow$ `data_plus_one`의 형태를 tfp.distribution의 형태로 정의할 수 있나?\n",
    "- tfp에서 부모, 자식 간의 랜덤 변수 관계를 명시적으로 표현할 수 있나?"
   ]
  },
  {
   "cell_type": "markdown",
   "metadata": {},
   "source": [
    "### TFP Distributions"
   ]
  },
  {
   "cell_type": "markdown",
   "metadata": {},
   "source": [
    "#### Initializing a Distribution"
   ]
  },
  {
   "cell_type": "markdown",
   "metadata": {},
   "source": [
    "#### Deterministic variables"
   ]
  },
  {
   "cell_type": "code",
   "execution_count": null,
   "metadata": {},
   "outputs": [],
   "source": []
  }
 ],
 "metadata": {
  "kernelspec": {
   "display_name": "Python 3",
   "language": "python",
   "name": "python3"
  },
  "language_info": {
   "codemirror_mode": {
    "name": "ipython",
    "version": 3
   },
   "file_extension": ".py",
   "mimetype": "text/x-python",
   "name": "python",
   "nbconvert_exporter": "python",
   "pygments_lexer": "ipython3",
   "version": "3.6.9"
  }
 },
 "nbformat": 4,
 "nbformat_minor": 4
}
